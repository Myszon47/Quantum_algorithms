{
 "cells": [
  {
   "cell_type": "code",
   "execution_count": 1,
   "id": "5d4417e7",
   "metadata": {},
   "outputs": [
    {
     "name": "stderr",
     "output_type": "stream",
     "text": [
      "C:\\Users\\szymo\\AppData\\Local\\Temp\\ipykernel_7112\\3498850633.py:2: DeprecationWarning: BasicAer is deprecated since Qiskit 0.46 and will be removed in Qiskit 1.0. The BasicAer (qiskit.providers.basicaer) module has been superseded by  qiskit.providers.basic_provider, and all its classes have been renamed to follow a new naming convention. More information and migration guidelines can be found in the 0.46 API docs for BasicAer.\n",
      "  from qiskit import (QuantumCircuit, QuantumRegister, ClassicalRegister, execute, Aer, BasicAer)\n",
      "C:\\Users\\szymo\\AppData\\Local\\Temp\\ipykernel_7112\\3498850633.py:6: DeprecationWarning: Importing from 'qiskit.providers.aer' is deprecated. Import from 'qiskit_aer' instead, which should work identically.\n",
      "  from qiskit.providers.aer import QasmSimulator\n"
     ]
    }
   ],
   "source": [
    "#import bibliotek\n",
    "from qiskit import (QuantumCircuit, QuantumRegister, ClassicalRegister, execute, Aer, BasicAer)\n",
    "import numpy as np\n",
    "from qiskit.quantum_info import Statevector\n",
    "from qiskit.visualization import plot_histogram, array_to_latex\n",
    "from qiskit.providers.aer import QasmSimulator\n"
   ]
  },
  {
   "cell_type": "markdown",
   "id": "de5a6c4f",
   "metadata": {},
   "source": [
    "# Kwantowa dystrybucja klucza BB84"
   ]
  },
  {
   "cell_type": "markdown",
   "id": "771958a5",
   "metadata": {},
   "source": [
    "Alice przesyła Bobowi klucz za pomocą wiązki fotonów w światłowodzie. Następnie Bob odcztyuje w zależności od bazy. Są dwie bazy : \"z\" = {|0>, |1>} oraz \"x\" = {|+>, |->}. Wykorzystuję się zjawisko polaryzacji światła"
   ]
  },
  {
   "cell_type": "markdown",
   "id": "deede428",
   "metadata": {},
   "source": [
    "### Protokół BB84:"
   ]
  },
  {
   "cell_type": "markdown",
   "id": "99634536",
   "metadata": {},
   "source": [
    "1. Alice losuję dwa ciągi binarne:\n",
    "\n",
    "    a -> bity klucza\n",
    "    \n",
    "    b -> określenie bazy,\n",
    "    \n",
    "    Bob losuję jeden ciąg, który będzie jego bazami\n",
    "    \n",
    "    Ustalamy że:\n",
    "    \n",
    "        a = 0 -> |0>, |+>\n",
    "        a = 1 -> |1>, |->\n",
    "        b = 0 -> |0>, |1>\n",
    "        b = 1 -> |+>, |->"
   ]
  },
  {
   "cell_type": "code",
   "execution_count": 2,
   "id": "fc71a47b",
   "metadata": {},
   "outputs": [
    {
     "name": "stdout",
     "output_type": "stream",
     "text": [
      "Klucz Alice:\t [0 1 0 0 0 0 1 1 1 1 1 0 0 1 1 0]\n",
      "Baza Alice:\t [1 0 1 1 0 0 0 0 0 0 0 0 1 0 0 1]\n",
      "Baza Boba:\t [0 1 0 0 1 0 0 1 0 1 1 1 0 0 0 1]\n"
     ]
    }
   ],
   "source": [
    "qubits_number = 16\n",
    "alice_a = np.random.randint(2, size=qubits_number)\n",
    "alice_b = np.random.randint(2, size=qubits_number)\n",
    "bob_b = np.random.randint(2, size=qubits_number)\n",
    "\n",
    "print(f\"Klucz Alice:\\t {np.array2string(alice_a)}\")\n",
    "print(f\"Baza Alice:\\t {np.array2string(alice_b)}\")\n",
    "print(f\"Baza Boba:\\t {np.array2string(bob_b)}\")"
   ]
  },
  {
   "cell_type": "markdown",
   "id": "73266bb7",
   "metadata": {},
   "source": [
    "2. Alice przygotowuję kubity zgodnie z wylosowanymi ciągami, wysyła je do Boba, a Bob w zależności od swoich wylosowanych baz odczytuje wynik "
   ]
  },
  {
   "cell_type": "code",
   "execution_count": 3,
   "id": "2f8d1ef5",
   "metadata": {},
   "outputs": [],
   "source": [
    "bits_number = qubits_number\n",
    "def bb84(key_bits, alice_base, bob_base):\n",
    "    \n",
    "    circuit = QuantumCircuit(qubits_number, bits_number)\n",
    "    #Alice\n",
    "    for i in range(len(alice_base)):\n",
    "        if key_bits[i] == 1:\n",
    "            circuit.x(i)\n",
    "        if alice_base[i] == 1:\n",
    "            circuit.h(i)\n",
    "    #Bob        \n",
    "    for j in range(len(bob_base)):\n",
    "        if bob_base[j] == 1:\n",
    "            circuit.h(j)\n",
    "    \n",
    "    circuit.measure(range(qubits_number),range(bits_number))\n",
    "    \n",
    "    return circuit"
   ]
  },
  {
   "cell_type": "markdown",
   "id": "727d12f4",
   "metadata": {},
   "source": [
    "3. Alice i bob wymieniają się listą swoich baz, porównują je oraz wybierają tylko wyniki, które odpowiadają takim samym bazom"
   ]
  },
  {
   "cell_type": "code",
   "execution_count": 4,
   "id": "4105dc13",
   "metadata": {},
   "outputs": [
    {
     "name": "stderr",
     "output_type": "stream",
     "text": [
      "C:\\Users\\szymo\\AppData\\Local\\Temp\\ipykernel_7112\\347923307.py:2: DeprecationWarning: The 'qiskit.Aer' entry point is deprecated and will be removed in Qiskit 1.0. You should use 'qiskit_aer.Aer' directly instead.\n",
      "  simulator = Aer.get_backend('qasm_simulator')\n",
      "C:\\Users\\szymo\\AppData\\Local\\Temp\\ipykernel_7112\\347923307.py:3: DeprecationWarning: The function ``qiskit.execute_function.execute()`` is deprecated as of qiskit 0.46.0. It will be removed in the Qiskit 1.0 release. This function combines ``transpile`` and ``backend.run``, which is covered by ``Sampler`` :mod:`~qiskit.primitives`. Alternatively, you can also run :func:`.transpile` followed by ``backend.run()``.\n",
      "  bob_result = list(execute(qc.reverse_bits(),backend=simulator,shots=1).result().get_counts())[0]\n"
     ]
    },
    {
     "name": "stdout",
     "output_type": "stream",
     "text": [
      "Klucz Boba: 011110\n",
      "Klucz Alice: 011110\n",
      "Różnica w kluczach wynosi: 0.0%\n"
     ]
    }
   ],
   "source": [
    "qc = bb84(alice_a, alice_b, bob_b)\n",
    "simulator = Aer.get_backend('qasm_simulator')\n",
    "bob_result = list(execute(qc.reverse_bits(),backend=simulator,shots=1).result().get_counts())[0]\n",
    "#porównanie baz i utworzenie klucza\n",
    "alice_key = ''\n",
    "bob_key = ''\n",
    "for i in range(qubits_number):\n",
    "    if alice_b[i] == bob_b[i]:\n",
    "        alice_key += str(alice_a[i])\n",
    "        bob_key += str(bob_result[i])\n",
    "print(f\"Klucz Boba: {bob_key}\")\n",
    "print(f\"Klucz Alice: {alice_key}\")\n",
    "\n",
    "differences = 0\n",
    "for j in range(len(alice_key)):\n",
    "    if alice_key[j] != bob_key[j]:\n",
    "        differences += 1\n",
    "print(f\"Różnica w kluczach wynosi: {differences/len(alice_key)*100}%\")"
   ]
  },
  {
   "cell_type": "markdown",
   "id": "9a504ff3",
   "metadata": {},
   "source": [
    "4. Widzimy że otrzymali taki sam klucz. Wiemy też, że prawdziwy świat nie jest tak idealny i jest możliwość różnicy jednak będzie ona dosyć niska. Sprawdźmy co się stanie gdy po drodze Ewa podsłucha wiadomość"
   ]
  },
  {
   "cell_type": "code",
   "execution_count": 5,
   "id": "1ac7f594",
   "metadata": {},
   "outputs": [
    {
     "name": "stdout",
     "output_type": "stream",
     "text": [
      "Klucz Boba: 010010\n",
      "Klucz Alice: 011110\n",
      "Różnica w kluczach wynosi: 33.33333333333333%\n"
     ]
    },
    {
     "name": "stderr",
     "output_type": "stream",
     "text": [
      "C:\\Users\\szymo\\AppData\\Local\\Temp\\ipykernel_7112\\4260808153.py:14: DeprecationWarning: The function ``qiskit.execute_function.execute()`` is deprecated as of qiskit 0.46.0. It will be removed in the Qiskit 1.0 release. This function combines ``transpile`` and ``backend.run``, which is covered by ``Sampler`` :mod:`~qiskit.primitives`. Alternatively, you can also run :func:`.transpile` followed by ``backend.run()``.\n",
      "  bob_result = list(execute(wiretap_qc.reverse_bits(),backend=simulator,shots=1).result().get_counts())[0]\n"
     ]
    }
   ],
   "source": [
    "# Ewa losuje swoją bazę\n",
    "ewa_b = np.random.randint(2, size=qubits_number)\n",
    "# następnie robi to co by zrobił Bob\n",
    "wiretap_qc = bb84(alice_a, alice_b, ewa_b)\n",
    "# wiadomość przechodzi do Boba\n",
    "bob_circuit = QuantumCircuit(qubits_number, bits_number)\n",
    "for j in range(len(bob_b)):\n",
    "        if bob_b[j] == 1:\n",
    "            bob_circuit.h(j)\n",
    "bob_circuit.measure(range(qubits_number),range(bits_number))\n",
    "wiretap_qc.compose(bob_circuit, inplace=\"true\")\n",
    "#odczyt i porównanie z kluczem Alice\n",
    "simulator = Aer.get_backend('qasm_simulator')\n",
    "bob_result = list(execute(wiretap_qc.reverse_bits(),backend=simulator,shots=1).result().get_counts())[0]\n",
    "#porównanie baz i utworzenie klucza\n",
    "alice_key = ''\n",
    "bob_key = ''\n",
    "for i in range(qubits_number):\n",
    "    if alice_b[i] == bob_b[i]:\n",
    "        alice_key += str(alice_a[i])\n",
    "        bob_key += str(bob_result[i])\n",
    "print(f\"Klucz Boba: {bob_key}\")\n",
    "print(f\"Klucz Alice: {alice_key}\")\n",
    "\n",
    "differences = 0\n",
    "for j in range(len(alice_key)):\n",
    "    if alice_key[j] != bob_key[j]:\n",
    "        differences += 1\n",
    "print(f\"Różnica w kluczach wynosi: {differences/len(alice_key)*100}%\")"
   ]
  },
  {
   "cell_type": "markdown",
   "id": "f8df5662",
   "metadata": {},
   "source": [
    "Widzimy, że po odczycie Ewy kuibty mogły zmienić swój stan przez co klucz jaki otrzyma Bob pomimo porównania baz będzie się znacząco różnił od klucza Alice.\n",
    "Dzięki takiemu zjawisku Bob i Alice będą wiedzieć, że ktoś po drodze podsłuchał ich kanał."
   ]
  },
  {
   "cell_type": "code",
   "execution_count": null,
   "id": "d5e17cfc",
   "metadata": {},
   "outputs": [],
   "source": []
  }
 ],
 "metadata": {
  "kernelspec": {
   "display_name": "Python 3 (ipykernel)",
   "language": "python",
   "name": "python3"
  },
  "language_info": {
   "codemirror_mode": {
    "name": "ipython",
    "version": 3
   },
   "file_extension": ".py",
   "mimetype": "text/x-python",
   "name": "python",
   "nbconvert_exporter": "python",
   "pygments_lexer": "ipython3",
   "version": "3.10.9"
  }
 },
 "nbformat": 4,
 "nbformat_minor": 5
}
